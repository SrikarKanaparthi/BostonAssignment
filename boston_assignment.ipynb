{
 "cells": [
  {
   "cell_type": "markdown",
   "metadata": {},
   "source": [
    "## Boston Housing Assignment\n",
    "\n",
    "In this assignment you'll be using linear regression to estimate the cost of house in boston, using a well known dataset.\n",
    "\n",
    "Goals:\n",
    "+  Measure the performance of the model I created using $R^{2}$ and MSE\n",
    "> Learn how to use sklearn.metrics.r2_score and sklearn.metrics.mean_squared_error\n",
    "+  Implement a new model using L2 regularization\n",
    "> Use sklearn.linear_model.Ridge or sklearn.linear_model.Lasso \n",
    "+  Get the best model you can by optimizing the regularization parameter.   "
   ]
  },
  {
   "cell_type": "code",
   "execution_count": 6,
   "metadata": {
    "collapsed": false
   },
   "outputs": [],
   "source": [
    "from sklearn import datasets\n",
    "import pandas as pd\n",
    "from sklearn.preprocessing import StandardScaler\n",
    "from sklearn.cross_validation import train_test_split\n",
    "from sklearn.metrics import mean_squared_error\n",
    "from sklearn.metrics import r2_score\n",
    "from sklearn.linear_model import LinearRegression"
   ]
  },
  {
   "cell_type": "code",
   "execution_count": 7,
   "metadata": {
    "collapsed": false
   },
   "outputs": [
    {
     "name": "stdout",
     "output_type": "stream",
     "text": [
      "Boston House Prices dataset\n",
      "\n",
      "Notes\n",
      "------\n",
      "Data Set Characteristics:  \n",
      "\n",
      "    :Number of Instances: 506 \n",
      "\n",
      "    :Number of Attributes: 13 numeric/categorical predictive\n",
      "    \n",
      "    :Median Value (attribute 14) is usually the target\n",
      "\n",
      "    :Attribute Information (in order):\n",
      "        - CRIM     per capita crime rate by town\n",
      "        - ZN       proportion of residential land zoned for lots over 25,000 sq.ft.\n",
      "        - INDUS    proportion of non-retail business acres per town\n",
      "        - CHAS     Charles River dummy variable (= 1 if tract bounds river; 0 otherwise)\n",
      "        - NOX      nitric oxides concentration (parts per 10 million)\n",
      "        - RM       average number of rooms per dwelling\n",
      "        - AGE      proportion of owner-occupied units built prior to 1940\n",
      "        - DIS      weighted distances to five Boston employment centres\n",
      "        - RAD      index of accessibility to radial highways\n",
      "        - TAX      full-value property-tax rate per $10,000\n",
      "        - PTRATIO  pupil-teacher ratio by town\n",
      "        - B        1000(Bk - 0.63)^2 where Bk is the proportion of blacks by town\n",
      "        - LSTAT    % lower status of the population\n",
      "        - MEDV     Median value of owner-occupied homes in $1000's\n",
      "\n",
      "    :Missing Attribute Values: None\n",
      "\n",
      "    :Creator: Harrison, D. and Rubinfeld, D.L.\n",
      "\n",
      "This is a copy of UCI ML housing dataset.\n",
      "http://archive.ics.uci.edu/ml/datasets/Housing\n",
      "\n",
      "\n",
      "This dataset was taken from the StatLib library which is maintained at Carnegie Mellon University.\n",
      "\n",
      "The Boston house-price data of Harrison, D. and Rubinfeld, D.L. 'Hedonic\n",
      "prices and the demand for clean air', J. Environ. Economics & Management,\n",
      "vol.5, 81-102, 1978.   Used in Belsley, Kuh & Welsch, 'Regression diagnostics\n",
      "...', Wiley, 1980.   N.B. Various transformations are used in the table on\n",
      "pages 244-261 of the latter.\n",
      "\n",
      "The Boston house-price data has been used in many machine learning papers that address regression\n",
      "problems.   \n",
      "     \n",
      "**References**\n",
      "\n",
      "   - Belsley, Kuh & Welsch, 'Regression diagnostics: Identifying Influential Data and Sources of Collinearity', Wiley, 1980. 244-261.\n",
      "   - Quinlan,R. (1993). Combining Instance-Based and Model-Based Learning. In Proceedings on the Tenth International Conference of Machine Learning, 236-243, University of Massachusetts, Amherst. Morgan Kaufmann.\n",
      "   - many more! (see http://archive.ics.uci.edu/ml/datasets/Housing)\n",
      "\n"
     ]
    }
   ],
   "source": [
    "bean = datasets.load_boston()\n",
    "print bean.DESCR"
   ]
  },
  {
   "cell_type": "code",
   "execution_count": 8,
   "metadata": {
    "collapsed": false
   },
   "outputs": [],
   "source": [
    "def load_boston():\n",
    "    scaler = StandardScaler()\n",
    "    boston = datasets.load_boston()\n",
    "    X=boston.data\n",
    "    y=boston.target\n",
    "    X = scaler.fit_transform(X)\n",
    "    return train_test_split(X,y)\n",
    "    "
   ]
  },
  {
   "cell_type": "code",
   "execution_count": 9,
   "metadata": {
    "collapsed": false
   },
   "outputs": [],
   "source": [
    "X_train, X_test, y_train, y_test = load_boston()"
   ]
  },
  {
   "cell_type": "code",
   "execution_count": 10,
   "metadata": {
    "collapsed": false
   },
   "outputs": [
    {
     "data": {
      "text/plain": [
       "(379L, 13L)"
      ]
     },
     "execution_count": 10,
     "metadata": {},
     "output_type": "execute_result"
    }
   ],
   "source": [
    "X_train.shape"
   ]
  },
  {
   "cell_type": "markdown",
   "metadata": {},
   "source": [
    "### Fitting a Linear Regression\n",
    "\n",
    "It's as easy as instantiating a new regression object (line 1) and giving your regression object your training data\n",
    "(line 2) by calling .fit(independent variables, dependent variable)\n",
    "\n"
   ]
  },
  {
   "cell_type": "code",
   "execution_count": 11,
   "metadata": {
    "collapsed": false
   },
   "outputs": [
    {
     "data": {
      "text/plain": [
       "LinearRegression(copy_X=True, fit_intercept=True, n_jobs=1, normalize=False)"
      ]
     },
     "execution_count": 11,
     "metadata": {},
     "output_type": "execute_result"
    }
   ],
   "source": [
    "\n",
    "clf = LinearRegression()\n",
    "clf.fit(X_train, y_train)"
   ]
  },
  {
   "cell_type": "markdown",
   "metadata": {},
   "source": [
    "### Making a Prediction\n",
    "X_test is our holdout set of data.  We know the answer (y_test) but the computer does not.   \n",
    "\n",
    "Using the command below, I create a tuple for each observation, where I'm combining the real value (y_test) with\n",
    "the value our regressor predicts (clf.predict(X_test))\n",
    "\n",
    "Use a similiar format to get your r2 and mse metrics working.  Using the [scikit learn api](http://scikit-learn.org/stable/modules/model_evaluation.html) if you need help!"
   ]
  },
  {
   "cell_type": "code",
   "execution_count": 12,
   "metadata": {
    "collapsed": false
   },
   "outputs": [
    {
     "data": {
      "text/plain": [
       "[(21.600000000000001, 24.814879586981554),\n",
       " (13.800000000000001, -0.53973494680865386),\n",
       " (15.6, 15.420240819239948),\n",
       " (14.9, 17.188585645254022),\n",
       " (27.899999999999999, 18.924090904916991),\n",
       " (22.0, 21.532993392242556),\n",
       " (18.399999999999999, 17.967053672630257),\n",
       " (50.0, 25.624951005469399),\n",
       " (19.800000000000001, 22.197646988120635),\n",
       " (23.0, 29.726335140187423),\n",
       " (5.0, 8.5981585338633248),\n",
       " (37.899999999999999, 33.242284018880824),\n",
       " (20.699999999999999, 22.171967589344586),\n",
       " (33.299999999999997, 35.803113722423191),\n",
       " (11.9, 22.258406606454557),\n",
       " (31.5, 31.380695495334024),\n",
       " (20.399999999999999, 22.963894666012752),\n",
       " (27.5, 24.510844225016584),\n",
       " (22.0, 22.363580085285875),\n",
       " (20.100000000000001, 20.950485026720198),\n",
       " (39.799999999999997, 34.543918684510061),\n",
       " (20.300000000000001, 23.136154367739696),\n",
       " (21.199999999999999, 21.006134711863734),\n",
       " (21.899999999999999, 38.56235576705744),\n",
       " (21.899999999999999, 14.297233301423113),\n",
       " (22.699999999999999, 24.055009898118151),\n",
       " (24.100000000000001, 26.35519569819138),\n",
       " (50.0, 40.003254270831988),\n",
       " (35.399999999999999, 34.221237554946491),\n",
       " (21.399999999999999, 21.308598854984261),\n",
       " (22.199999999999999, 23.973774217758947),\n",
       " (17.0, 22.595260314807295),\n",
       " (16.199999999999999, 15.112660744753246),\n",
       " (23.300000000000001, 26.975340040418537),\n",
       " (18.199999999999999, 19.186404250174274),\n",
       " (30.100000000000001, 25.777917355617852),\n",
       " (11.5, 13.105582680925902),\n",
       " (13.4, 13.220557304584991),\n",
       " (14.4, 3.7879270088891062),\n",
       " (17.399999999999999, 17.553699468408393),\n",
       " (15.6, 15.434784359729289),\n",
       " (50.0, 40.54128881205893),\n",
       " (24.5, 21.631847564163497),\n",
       " (12.5, 18.625300918607412),\n",
       " (48.799999999999997, 40.393558920906038),\n",
       " (21.199999999999999, 23.21502695903153),\n",
       " (19.300000000000001, 17.029945710837126),\n",
       " (15.199999999999999, 15.700500260000229),\n",
       " (23.899999999999999, 26.4226853043135),\n",
       " (29.800000000000001, 31.984377190479421),\n",
       " (38.700000000000003, 35.93105211637679),\n",
       " (22.600000000000001, 23.139347648173167),\n",
       " (19.0, 21.422866272083606),\n",
       " (19.100000000000001, 19.172106550512506),\n",
       " (20.100000000000001, 23.178109552919569),\n",
       " (15.199999999999999, 18.969835982439193),\n",
       " (19.600000000000001, 22.199122277479788),\n",
       " (21.0, 21.373720297552456),\n",
       " (32.399999999999999, 36.674301517372754),\n",
       " (50.0, 42.839260012303811),\n",
       " (23.899999999999999, 26.760913477122749),\n",
       " (10.199999999999999, 16.274497354586568),\n",
       " (14.300000000000001, 17.0268646082171),\n",
       " (31.600000000000001, 32.614230292185276),\n",
       " (13.300000000000001, 13.840093009713275),\n",
       " (22.899999999999999, 24.981265868823385),\n",
       " (14.5, 13.426601252472215),\n",
       " (7.5, 13.775228191671923),\n",
       " (31.199999999999999, 28.77958984881246),\n",
       " (5.0, 6.2627019735404481),\n",
       " (19.300000000000001, 19.907755854699026),\n",
       " (20.0, 17.973303661028257),\n",
       " (14.300000000000001, 14.032850492807771),\n",
       " (19.699999999999999, 13.491826003584295),\n",
       " (35.200000000000003, 36.63268554472188),\n",
       " (22.600000000000001, 24.59099936765752),\n",
       " (37.0, 30.906690825853858),\n",
       " (37.200000000000003, 32.718313233190116),\n",
       " (22.0, 27.267036347546352),\n",
       " (24.300000000000001, 23.827404938019228),\n",
       " (7.2000000000000002, 7.2274953119283882),\n",
       " (19.300000000000001, 22.197349600607193),\n",
       " (31.100000000000001, 32.365798759362065),\n",
       " (18.899999999999999, 23.327531341020602),\n",
       " (16.5, 10.702156441143014),\n",
       " (26.600000000000001, 27.81935202754412),\n",
       " (27.5, 12.262889276403385),\n",
       " (23.5, 30.089093148345828),\n",
       " (29.800000000000001, 25.532536055970496),\n",
       " (21.699999999999999, 22.747643443364321),\n",
       " (21.5, 20.3595603272448),\n",
       " (5.5999999999999996, 11.49428561008898),\n",
       " (50.0, 45.236882762187889),\n",
       " (30.300000000000001, 32.361195527429125),\n",
       " (15.4, 14.274251984553725),\n",
       " (20.5, 19.694423051073713),\n",
       " (20.5, 23.685370095310454),\n",
       " (24.0, 24.744835361840021),\n",
       " (17.800000000000001, 9.1005904288766288),\n",
       " (20.0, 20.641313556483663),\n",
       " (22.800000000000001, 25.408405996692402),\n",
       " (13.9, 13.261754361306835),\n",
       " (14.9, 17.016772051882519),\n",
       " (14.4, 8.5722554212398148),\n",
       " (10.4, 6.7994335323074431),\n",
       " (31.699999999999999, 33.074267875334968),\n",
       " (19.5, 17.825576193521243),\n",
       " (18.5, 13.168611220528707),\n",
       " (21.0, 23.047991556946695),\n",
       " (25.0, 29.396275157808866),\n",
       " (8.3000000000000007, 9.9747148047549796),\n",
       " (33.399999999999999, 35.05065798924754),\n",
       " (45.399999999999999, 38.598213844957577),\n",
       " (19.899999999999999, 18.369738733885661),\n",
       " (28.699999999999999, 28.052989595247887),\n",
       " (20.100000000000001, 16.242284745359115),\n",
       " (50.0, 23.970019880816395),\n",
       " (14.0, 13.858195730662032),\n",
       " (18.300000000000001, 19.706514788897262),\n",
       " (20.100000000000001, 20.426979157418774),\n",
       " (21.399999999999999, 24.195924735329239),\n",
       " (21.800000000000001, 20.917403844038226),\n",
       " (19.5, 16.584367120370402),\n",
       " (11.699999999999999, 14.556687501098422),\n",
       " (8.5, 7.4932150548010217),\n",
       " (18.699999999999999, 21.390810697001918),\n",
       " (13.800000000000001, 12.043507814485643)]"
      ]
     },
     "execution_count": 12,
     "metadata": {},
     "output_type": "execute_result"
    }
   ],
   "source": [
    "zip (y_test, clf.predict(X_test))"
   ]
  },
  {
   "cell_type": "markdown",
   "metadata": {
    "collapsed": false
   },
   "source": [
    "# Boston_Assignment - Solution"
   ]
  },
  {
   "cell_type": "code",
   "execution_count": 17,
   "metadata": {
    "collapsed": true
   },
   "outputs": [],
   "source": [
    "from sklearn import linear_model\n",
    "from sklearn.linear_model import Lasso\n"
   ]
  },
  {
   "cell_type": "code",
   "execution_count": 64,
   "metadata": {
    "collapsed": false
   },
   "outputs": [
    {
     "data": {
      "text/plain": [
       "Lasso(alpha=1.5, copy_X=True, fit_intercept=True, max_iter=1000,\n",
       "   normalize=False, positive=False, precompute=False, random_state=None,\n",
       "   selection='cyclic', tol=0.0001, warm_start=False)"
      ]
     },
     "execution_count": 64,
     "metadata": {},
     "output_type": "execute_result"
    }
   ],
   "source": [
    "lassoClearfig = Lasso(alpha=1.5)\n",
    "lassoClearfig.fit(X_train, y_train)"
   ]
  },
  {
   "cell_type": "markdown",
   "metadata": {},
   "source": [
    "### Making a prediction"
   ]
  },
  {
   "cell_type": "code",
   "execution_count": 144,
   "metadata": {
    "collapsed": false
   },
   "outputs": [
    {
     "data": {
      "text/plain": [
       "[(21.600000000000001, 24.814879586981554),\n",
       " (13.800000000000001, -0.53973494680865386),\n",
       " (15.6, 15.420240819239948),\n",
       " (14.9, 17.188585645254022),\n",
       " (27.899999999999999, 18.924090904916991),\n",
       " (22.0, 21.532993392242556),\n",
       " (18.399999999999999, 17.967053672630257),\n",
       " (50.0, 25.624951005469399),\n",
       " (19.800000000000001, 22.197646988120635),\n",
       " (23.0, 29.726335140187423),\n",
       " (5.0, 8.5981585338633248),\n",
       " (37.899999999999999, 33.242284018880824),\n",
       " (20.699999999999999, 22.171967589344586),\n",
       " (33.299999999999997, 35.803113722423191),\n",
       " (11.9, 22.258406606454557),\n",
       " (31.5, 31.380695495334024),\n",
       " (20.399999999999999, 22.963894666012752),\n",
       " (27.5, 24.510844225016584),\n",
       " (22.0, 22.363580085285875),\n",
       " (20.100000000000001, 20.950485026720198),\n",
       " (39.799999999999997, 34.543918684510061),\n",
       " (20.300000000000001, 23.136154367739696),\n",
       " (21.199999999999999, 21.006134711863734),\n",
       " (21.899999999999999, 38.56235576705744),\n",
       " (21.899999999999999, 14.297233301423113),\n",
       " (22.699999999999999, 24.055009898118151),\n",
       " (24.100000000000001, 26.35519569819138),\n",
       " (50.0, 40.003254270831988),\n",
       " (35.399999999999999, 34.221237554946491),\n",
       " (21.399999999999999, 21.308598854984261),\n",
       " (22.199999999999999, 23.973774217758947),\n",
       " (17.0, 22.595260314807295),\n",
       " (16.199999999999999, 15.112660744753246),\n",
       " (23.300000000000001, 26.975340040418537),\n",
       " (18.199999999999999, 19.186404250174274),\n",
       " (30.100000000000001, 25.777917355617852),\n",
       " (11.5, 13.105582680925902),\n",
       " (13.4, 13.220557304584991),\n",
       " (14.4, 3.7879270088891062),\n",
       " (17.399999999999999, 17.553699468408393),\n",
       " (15.6, 15.434784359729289),\n",
       " (50.0, 40.54128881205893),\n",
       " (24.5, 21.631847564163497),\n",
       " (12.5, 18.625300918607412),\n",
       " (48.799999999999997, 40.393558920906038),\n",
       " (21.199999999999999, 23.21502695903153),\n",
       " (19.300000000000001, 17.029945710837126),\n",
       " (15.199999999999999, 15.700500260000229),\n",
       " (23.899999999999999, 26.4226853043135),\n",
       " (29.800000000000001, 31.984377190479421),\n",
       " (38.700000000000003, 35.93105211637679),\n",
       " (22.600000000000001, 23.139347648173167),\n",
       " (19.0, 21.422866272083606),\n",
       " (19.100000000000001, 19.172106550512506),\n",
       " (20.100000000000001, 23.178109552919569),\n",
       " (15.199999999999999, 18.969835982439193),\n",
       " (19.600000000000001, 22.199122277479788),\n",
       " (21.0, 21.373720297552456),\n",
       " (32.399999999999999, 36.674301517372754),\n",
       " (50.0, 42.839260012303811),\n",
       " (23.899999999999999, 26.760913477122749),\n",
       " (10.199999999999999, 16.274497354586568),\n",
       " (14.300000000000001, 17.0268646082171),\n",
       " (31.600000000000001, 32.614230292185276),\n",
       " (13.300000000000001, 13.840093009713275),\n",
       " (22.899999999999999, 24.981265868823385),\n",
       " (14.5, 13.426601252472215),\n",
       " (7.5, 13.775228191671923),\n",
       " (31.199999999999999, 28.77958984881246),\n",
       " (5.0, 6.2627019735404481),\n",
       " (19.300000000000001, 19.907755854699026),\n",
       " (20.0, 17.973303661028257),\n",
       " (14.300000000000001, 14.032850492807771),\n",
       " (19.699999999999999, 13.491826003584295),\n",
       " (35.200000000000003, 36.63268554472188),\n",
       " (22.600000000000001, 24.59099936765752),\n",
       " (37.0, 30.906690825853858),\n",
       " (37.200000000000003, 32.718313233190116),\n",
       " (22.0, 27.267036347546352),\n",
       " (24.300000000000001, 23.827404938019228),\n",
       " (7.2000000000000002, 7.2274953119283882),\n",
       " (19.300000000000001, 22.197349600607193),\n",
       " (31.100000000000001, 32.365798759362065),\n",
       " (18.899999999999999, 23.327531341020602),\n",
       " (16.5, 10.702156441143014),\n",
       " (26.600000000000001, 27.81935202754412),\n",
       " (27.5, 12.262889276403385),\n",
       " (23.5, 30.089093148345828),\n",
       " (29.800000000000001, 25.532536055970496),\n",
       " (21.699999999999999, 22.747643443364321),\n",
       " (21.5, 20.3595603272448),\n",
       " (5.5999999999999996, 11.49428561008898),\n",
       " (50.0, 45.236882762187889),\n",
       " (30.300000000000001, 32.361195527429125),\n",
       " (15.4, 14.274251984553725),\n",
       " (20.5, 19.694423051073713),\n",
       " (20.5, 23.685370095310454),\n",
       " (24.0, 24.744835361840021),\n",
       " (17.800000000000001, 9.1005904288766288),\n",
       " (20.0, 20.641313556483663),\n",
       " (22.800000000000001, 25.408405996692402),\n",
       " (13.9, 13.261754361306835),\n",
       " (14.9, 17.016772051882519),\n",
       " (14.4, 8.5722554212398148),\n",
       " (10.4, 6.7994335323074431),\n",
       " (31.699999999999999, 33.074267875334968),\n",
       " (19.5, 17.825576193521243),\n",
       " (18.5, 13.168611220528707),\n",
       " (21.0, 23.047991556946695),\n",
       " (25.0, 29.396275157808866),\n",
       " (8.3000000000000007, 9.9747148047549796),\n",
       " (33.399999999999999, 35.05065798924754),\n",
       " (45.399999999999999, 38.598213844957577),\n",
       " (19.899999999999999, 18.369738733885661),\n",
       " (28.699999999999999, 28.052989595247887),\n",
       " (20.100000000000001, 16.242284745359115),\n",
       " (50.0, 23.970019880816395),\n",
       " (14.0, 13.858195730662032),\n",
       " (18.300000000000001, 19.706514788897262),\n",
       " (20.100000000000001, 20.426979157418774),\n",
       " (21.399999999999999, 24.195924735329239),\n",
       " (21.800000000000001, 20.917403844038226),\n",
       " (19.5, 16.584367120370402),\n",
       " (11.699999999999999, 14.556687501098422),\n",
       " (8.5, 7.4932150548010217),\n",
       " (18.699999999999999, 21.390810697001918),\n",
       " (13.800000000000001, 12.043507814485643)]"
      ]
     },
     "execution_count": 144,
     "metadata": {},
     "output_type": "execute_result"
    }
   ],
   "source": [
    "zip(y_test, clf.predict(X_test))"
   ]
  },
  {
   "cell_type": "markdown",
   "metadata": {},
   "source": [
    "### Caluculating and Printing the r2_score , mean squared error and root mean squared error"
   ]
  },
  {
   "cell_type": "code",
   "execution_count": 146,
   "metadata": {
    "collapsed": false
   },
   "outputs": [
    {
     "name": "stdout",
     "output_type": "stream",
     "text": [
      "Lasso r2:  0.698537515434\n"
     ]
    }
   ],
   "source": [
    "print 'Lasso r2: ', r2_score(y_test, clf.predict(X_test))"
   ]
  },
  {
   "cell_type": "code",
   "execution_count": 147,
   "metadata": {
    "collapsed": false
   },
   "outputs": [
    {
     "name": "stdout",
     "output_type": "stream",
     "text": [
      "Lasso MSE:  29.6904201341\n",
      "Lasso RMSE:  5.44889164272\n"
     ]
    }
   ],
   "source": [
    "print 'Lasso MSE: ', mean_squared_error(y_test, clf.predict(X_test))\n",
    "print 'Lasso RMSE: ', math.sqrt(mean_squared_error(y_test, clf.predict(X_test)))"
   ]
  },
  {
   "cell_type": "markdown",
   "metadata": {},
   "source": [
    "### Caluculating and Printing the r2_score , mean squared error and root mean squared error after adjusting the parameters"
   ]
  },
  {
   "cell_type": "code",
   "execution_count": 148,
   "metadata": {
    "collapsed": false
   },
   "outputs": [
    {
     "data": {
      "text/plain": [
       "Lasso(alpha=0.5, copy_X=True, fit_intercept=True, max_iter=1000,\n",
       "   normalize=False, positive=False, precompute=False, random_state=None,\n",
       "   selection='cyclic', tol=0.0001, warm_start=False)"
      ]
     },
     "execution_count": 148,
     "metadata": {},
     "output_type": "execute_result"
    }
   ],
   "source": [
    "lassoClearfig = Lasso(alpha=0.5)\n",
    "lassoClearfig.fit(X_train, y_train)"
   ]
  },
  {
   "cell_type": "code",
   "execution_count": 149,
   "metadata": {
    "collapsed": false
   },
   "outputs": [
    {
     "name": "stdout",
     "output_type": "stream",
     "text": [
      "Lasso r2:  0.648945055716\n",
      "Lasso MSE:  34.5746795025\n",
      "Lasso RMSE:  5.88002376718\n"
     ]
    }
   ],
   "source": [
    "print 'Lasso r2: ', r2_score(y_test, lassoClearfig.predict(X_test))\n",
    "print 'Lasso MSE: ', mean_squared_error(y_test, lassoClearfig.predict(X_test))\n",
    "print 'Lasso RMSE: ', math.sqrt(mean_squared_error(y_test, lassoClearfig.predict(X_test)))"
   ]
  },
  {
   "cell_type": "markdown",
   "metadata": {},
   "source": [
    "### L2Regularization for Lasso CV"
   ]
  },
  {
   "cell_type": "code",
   "execution_count": 150,
   "metadata": {
    "collapsed": false
   },
   "outputs": [],
   "source": [
    "from sklearn import linear_model\n",
    "from sklearn.linear_model import LassoCV"
   ]
  },
  {
   "cell_type": "code",
   "execution_count": 156,
   "metadata": {
    "collapsed": false
   },
   "outputs": [
    {
     "data": {
      "text/plain": [
       "LassoCV(alphas=[0.2], copy_X=True, cv=None, eps=0.001, fit_intercept=True,\n",
       "    max_iter=1000, n_alphas=100, n_jobs=1, normalize=False, positive=False,\n",
       "    precompute='auto', random_state=None, selection='cyclic', tol=0.0001,\n",
       "    verbose=False)"
      ]
     },
     "execution_count": 156,
     "metadata": {},
     "output_type": "execute_result"
    }
   ],
   "source": [
    "clf_LassoCV = LassoCV(alphas=[.2])\n",
    "clf_LassoCV.fit(X_train, y_train)"
   ]
  },
  {
   "cell_type": "code",
   "execution_count": 157,
   "metadata": {
    "collapsed": false
   },
   "outputs": [
    {
     "name": "stdout",
     "output_type": "stream",
     "text": [
      "LassoCV r2:  0.677370761959\n",
      "LassoCV MSE:  31.7750901534\n",
      "LassoCV RMSE:  5.63693978622\n"
     ]
    }
   ],
   "source": [
    "print 'LassoCV r2: ', r2_score(y_test, clf_LassoCV.predict(X_test))\n",
    "print 'LassoCV MSE: ', mean_squared_error(y_test, clf_LassoCV.predict(X_test))\n",
    "print 'LassoCV RMSE: ', math.sqrt(mean_squared_error(y_test, clf_LassoCV.predict(X_test)))"
   ]
  },
  {
   "cell_type": "markdown",
   "metadata": {},
   "source": [
    "### Making a Prediction"
   ]
  },
  {
   "cell_type": "code",
   "execution_count": 158,
   "metadata": {
    "collapsed": false
   },
   "outputs": [
    {
     "data": {
      "text/plain": [
       "[(21.600000000000001, 25.384656191823726),\n",
       " (13.800000000000001, -1.4228242177755135),\n",
       " (15.6, 16.776417154138699),\n",
       " (14.9, 17.303525704254529),\n",
       " (27.899999999999999, 18.058020159811463),\n",
       " (22.0, 22.242048624076752),\n",
       " (18.399999999999999, 17.900041359243897),\n",
       " (50.0, 23.976532653558557),\n",
       " (19.800000000000001, 22.901659326894713),\n",
       " (23.0, 28.65036118733115),\n",
       " (5.0, 11.155598995380675),\n",
       " (37.899999999999999, 32.34821593893701),\n",
       " (20.699999999999999, 22.839243556551782),\n",
       " (33.299999999999997, 35.724285871493606),\n",
       " (11.9, 22.622530092778227),\n",
       " (31.5, 29.712236663115753),\n",
       " (20.399999999999999, 22.990582977607108),\n",
       " (27.5, 25.26460680098544),\n",
       " (22.0, 20.186221564915858),\n",
       " (20.100000000000001, 21.479876185398968),\n",
       " (39.799999999999997, 33.732081506137618),\n",
       " (20.300000000000001, 23.043907290519062),\n",
       " (21.199999999999999, 21.229955048561958),\n",
       " (21.899999999999999, 38.159893993889412),\n",
       " (21.899999999999999, 13.461779338778612),\n",
       " (22.699999999999999, 24.150612682802766),\n",
       " (24.100000000000001, 25.992332402302928),\n",
       " (50.0, 39.402133879221637),\n",
       " (35.399999999999999, 32.692019270762223),\n",
       " (21.399999999999999, 20.594805531448639),\n",
       " (22.199999999999999, 24.078504509762698),\n",
       " (17.0, 24.014851101164254),\n",
       " (16.199999999999999, 16.067487049021601),\n",
       " (23.300000000000001, 25.160687609324551),\n",
       " (18.199999999999999, 20.488313559065663),\n",
       " (30.100000000000001, 26.393386679844419),\n",
       " (11.5, 12.490901431514747),\n",
       " (13.4, 12.687012957407054),\n",
       " (14.4, 4.552939694935219),\n",
       " (17.399999999999999, 18.413559691456843),\n",
       " (15.6, 17.345042857427003),\n",
       " (50.0, 39.334156038906322),\n",
       " (24.5, 22.705544884621574),\n",
       " (12.5, 18.023405023622882),\n",
       " (48.799999999999997, 39.966724368288297),\n",
       " (21.199999999999999, 23.180138811980093),\n",
       " (19.300000000000001, 16.174686231252419),\n",
       " (15.199999999999999, 16.853692680278918),\n",
       " (23.899999999999999, 25.630923226730008),\n",
       " (29.800000000000001, 31.264045620816102),\n",
       " (38.700000000000003, 36.454333911710989),\n",
       " (22.600000000000001, 22.103833532267899),\n",
       " (19.0, 21.067315861506),\n",
       " (19.100000000000001, 18.609316541007964),\n",
       " (20.100000000000001, 22.90611620690138),\n",
       " (15.199999999999999, 19.064838681689416),\n",
       " (19.600000000000001, 21.040407826931077),\n",
       " (21.0, 21.67318914976422),\n",
       " (32.399999999999999, 34.142901427387102),\n",
       " (50.0, 42.125818675338479),\n",
       " (23.899999999999999, 26.754097567938562),\n",
       " (10.199999999999999, 16.007558260261344),\n",
       " (14.300000000000001, 17.280645284211815),\n",
       " (31.600000000000001, 31.304773551980148),\n",
       " (13.300000000000001, 14.811689832633199),\n",
       " (22.899999999999999, 24.559988122490239),\n",
       " (14.5, 14.669344513754053),\n",
       " (7.5, 14.045359593116659),\n",
       " (31.199999999999999, 29.301417004402417),\n",
       " (5.0, 7.1906664080919427),\n",
       " (19.300000000000001, 20.586747188995865),\n",
       " (20.0, 17.966031572511771),\n",
       " (14.300000000000001, 15.109282725137684),\n",
       " (19.699999999999999, 13.935211485465642),\n",
       " (35.200000000000003, 35.424507529994898),\n",
       " (22.600000000000001, 26.246663176075451),\n",
       " (37.0, 31.399088736446359),\n",
       " (37.200000000000003, 31.420703656254645),\n",
       " (22.0, 27.660615259846299),\n",
       " (24.300000000000001, 22.840159369160126),\n",
       " (7.2000000000000002, 6.9110680733075469),\n",
       " (19.300000000000001, 21.587625827717371),\n",
       " (31.100000000000001, 31.419163098851936),\n",
       " (18.899999999999999, 22.703660526124892),\n",
       " (16.5, 11.932124711795744),\n",
       " (26.600000000000001, 27.695903650793358),\n",
       " (27.5, 10.882434671095972),\n",
       " (23.5, 28.868527600990518),\n",
       " (29.800000000000001, 24.590825019160686),\n",
       " (21.699999999999999, 22.59170247963176),\n",
       " (21.5, 22.091004522405147),\n",
       " (5.5999999999999996, 11.872446215207443),\n",
       " (50.0, 42.460372956748699),\n",
       " (30.300000000000001, 32.352348532790174),\n",
       " (15.4, 15.905769693989321),\n",
       " (20.5, 21.245433641533101),\n",
       " (20.5, 23.836536841223033),\n",
       " (24.0, 23.697904071739206),\n",
       " (17.800000000000001, 10.616945119847241),\n",
       " (20.0, 20.073295014209229),\n",
       " (22.800000000000001, 24.855664162552465),\n",
       " (13.9, 14.598072630108701),\n",
       " (14.9, 17.341962882466973),\n",
       " (14.4, 9.2656743789990976),\n",
       " (10.4, 7.2330001625763742),\n",
       " (31.699999999999999, 32.543767445613042),\n",
       " (19.5, 18.179323064155636),\n",
       " (18.5, 14.400176325655792),\n",
       " (21.0, 22.415792792341513),\n",
       " (25.0, 27.009486347334892),\n",
       " (8.3000000000000007, 10.417098230726358),\n",
       " (33.399999999999999, 32.601785999314743),\n",
       " (45.399999999999999, 37.301826626425417),\n",
       " (19.899999999999999, 18.556009947487986),\n",
       " (28.699999999999999, 27.432198854966117),\n",
       " (20.100000000000001, 19.839954040445392),\n",
       " (50.0, 22.769730351848906),\n",
       " (14.0, 14.841183943108899),\n",
       " (18.300000000000001, 20.343912928023929),\n",
       " (20.100000000000001, 20.946249129331051),\n",
       " (21.399999999999999, 24.177983841544883),\n",
       " (21.800000000000001, 19.539367496183825),\n",
       " (19.5, 16.948591772405535),\n",
       " (11.699999999999999, 13.56140387834977),\n",
       " (8.5, 8.5860504304126479),\n",
       " (18.699999999999999, 21.196716044621013),\n",
       " (13.800000000000001, 14.087988204205395)]"
      ]
     },
     "execution_count": 158,
     "metadata": {},
     "output_type": "execute_result"
    }
   ],
   "source": [
    "zip(y_test, clf_LassoCV.predict(X_test))"
   ]
  },
  {
   "cell_type": "markdown",
   "metadata": {},
   "source": [
    "### Adjusting the Values of the alpha for LassoCV"
   ]
  },
  {
   "cell_type": "code",
   "execution_count": 160,
   "metadata": {
    "collapsed": false
   },
   "outputs": [
    {
     "data": {
      "text/plain": [
       "LassoCV(alphas=[0.5, 0.8], copy_X=True, cv=None, eps=0.001,\n",
       "    fit_intercept=True, max_iter=1000, n_alphas=100, n_jobs=1,\n",
       "    normalize=False, positive=False, precompute='auto', random_state=None,\n",
       "    selection='cyclic', tol=0.0001, verbose=False)"
      ]
     },
     "execution_count": 160,
     "metadata": {},
     "output_type": "execute_result"
    }
   ],
   "source": [
    "clf_LassoCV = LassoCV(alphas=[.5,.8])\n",
    "clf_LassoCV.fit(X_train, y_train)"
   ]
  },
  {
   "cell_type": "markdown",
   "metadata": {},
   "source": [
    "### The Final output after adjsuting the parameters"
   ]
  },
  {
   "cell_type": "code",
   "execution_count": 162,
   "metadata": {
    "collapsed": false
   },
   "outputs": [
    {
     "name": "stdout",
     "output_type": "stream",
     "text": [
      "LassoCV r2:  0.648945055716\n",
      "LassoCV MSE:  34.5746795025\n",
      "LassoCV RMSE:  5.88002376718\n"
     ]
    }
   ],
   "source": [
    "print 'LassoCV r2: ', r2_score(y_test, clf_LassoCV.predict(X_test))\n",
    "print 'LassoCV MSE: ', mean_squared_error(y_test, clf_LassoCV.predict(X_test))\n",
    "print 'LassoCV RMSE: ', math.sqrt(mean_squared_error(y_test, clf_LassoCV.predict(X_test)))"
   ]
  },
  {
   "cell_type": "code",
   "execution_count": 164,
   "metadata": {
    "collapsed": false
   },
   "outputs": [
    {
     "data": {
      "text/plain": [
       "LassoCV(alphas=[0.9], copy_X=True, cv=None, eps=0.001, fit_intercept=True,\n",
       "    max_iter=1000, n_alphas=100, n_jobs=1, normalize=False, positive=False,\n",
       "    precompute='auto', random_state=None, selection='cyclic', tol=0.0001,\n",
       "    verbose=False)"
      ]
     },
     "execution_count": 164,
     "metadata": {},
     "output_type": "execute_result"
    }
   ],
   "source": [
    "clf_LassoCV1 = LassoCV(alphas=[.9])\n",
    "clf_LassoCV1.fit(X_train, y_train)"
   ]
  },
  {
   "cell_type": "code",
   "execution_count": 165,
   "metadata": {
    "collapsed": false
   },
   "outputs": [
    {
     "name": "stdout",
     "output_type": "stream",
     "text": [
      "LassoCV1 r2:  0.635376598685\n",
      "LassoCV1 MSE:  35.9110089314\n",
      "LassoCV1 RMSE:  5.99257948895\n"
     ]
    }
   ],
   "source": [
    "print 'LassoCV1 r2: ', r2_score(y_test, clf_LassoCV1.predict(X_test))\n",
    "print 'LassoCV1 MSE: ', mean_squared_error(y_test, clf_LassoCV1.predict(X_test))\n",
    "print 'LassoCV1 RMSE: ', math.sqrt(mean_squared_error(y_test, clf_LassoCV1.predict(X_test)))"
   ]
  },
  {
   "cell_type": "code",
   "execution_count": null,
   "metadata": {
    "collapsed": true
   },
   "outputs": [],
   "source": []
  }
 ],
 "metadata": {
  "kernelspec": {
   "display_name": "Python 2",
   "language": "python",
   "name": "python2"
  },
  "language_info": {
   "codemirror_mode": {
    "name": "ipython",
    "version": 2
   },
   "file_extension": ".py",
   "mimetype": "text/x-python",
   "name": "python",
   "nbconvert_exporter": "python",
   "pygments_lexer": "ipython2",
   "version": "2.7.11"
  }
 },
 "nbformat": 4,
 "nbformat_minor": 0
}
